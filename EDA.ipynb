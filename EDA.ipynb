{
 "cells": [
  {
   "cell_type": "markdown",
   "metadata": {},
   "source": [
    "\n",
    "**Customer Churn Prediction:**\n",
    "\n",
    "    A Bank wants to take care of customer retention for its product: savings accounts. The bank wants you to identify customers likely to churn balances below the minimum balance. You have the customers information such as age, gender, demographics along with their transactions with the bank.\n",
    "\n",
    "    Your task as a data scientist would be to predict the propensity to churn for each customer.\n",
    "\n",
    "**Data Dictionary**\n",
    "    \n",
    "    There are multiple variables in the dataset which can be cleanly divided into 3 categories:\n",
    "    \n",
    "    I. Demographic information about customers\n",
    "    \n",
    "    customer_id - Customer id \n",
    "    \n",
    "    vintage - Vintage of the customer with the bank in a number of days \n",
    "    \n",
    "    age - Age of customer \n",
    "    \n",
    "    gender - Gender of customer \n",
    "\n",
    "    dependents - Number of dependents \n",
    "\n",
    "    occupation - Occupation of the customer \n",
    "\n",
    "    city - City of the customer (anonymized) \n",
    "\n",
    "    II. Customer Bank Relationship\n",
    "\n",
    "    customer_nw_category - Net worth of customer (3: Low 2: Medium 1: High) \n",
    "\n",
    "    branch_code - Branch Code for a customer account \n",
    "\n",
    "    days_since_last_transaction - No of Days Since Last Credit in Last 1 year \n",
    "\n",
    "    III. Transactional Information\n",
    "\n",
    "    current_balance - Balance as of today \n",
    "\n",
    "    previous_month_end_balance - End of Month Balance of previous month \n",
    "\n",
    "    average_monthly_balance_prevQ - Average monthly balances (AMB) in Previous Quarter \n",
    "\n",
    "    average_monthly_balance_prevQ2 - Average monthly balances (AMB) in previous to the previous quarter \n",
    "\n",
    "    current_month_credit - Total Credit Amount current month \n",
    "\n",
    "    previous_month_credit - Total Credit Amount previous month \n",
    "\n",
    "    current_month_debit - Total Debit Amount current month \n",
    "\n",
    "    previous_month_debit - Total Debit Amount previous month \n",
    "\n",
    "    current_month_balance - Average Balance of current month \n",
    "\n",
    "    previous_month_balance - Average Balance of previous month \n",
    "\n",
    "    churn - Average balance of customer falls below minimum balance in the next quarter (1/0) \n",
    " \n",
    "\n",
    "    (Note: In the same downloaded folder, you can find the dataset (churn_prediction) for this problem statement. Once you upload the final project, you will be able to download the project solution (Final project solution.zip). This folder contains the Jupyter notebook file that contains the solution to this final project problem statement.)\n",
    "\n",
    "\n"
   ]
  },
  {
   "cell_type": "code",
   "execution_count": 121,
   "metadata": {},
   "outputs": [
    {
     "name": "stdout",
     "output_type": "stream",
     "text": [
      "Requirement already satisfied: matplotlib in e:\\project\\python\\bank customer churn\\.venv\\lib\\site-packages (3.7.2)\n",
      "Requirement already satisfied: contourpy>=1.0.1 in e:\\project\\python\\bank customer churn\\.venv\\lib\\site-packages (from matplotlib) (1.1.0)\n",
      "Requirement already satisfied: cycler>=0.10 in e:\\project\\python\\bank customer churn\\.venv\\lib\\site-packages (from matplotlib) (0.11.0)\n",
      "Requirement already satisfied: fonttools>=4.22.0 in e:\\project\\python\\bank customer churn\\.venv\\lib\\site-packages (from matplotlib) (4.40.0)\n",
      "Requirement already satisfied: kiwisolver>=1.0.1 in e:\\project\\python\\bank customer churn\\.venv\\lib\\site-packages (from matplotlib) (1.4.4)\n",
      "Requirement already satisfied: numpy>=1.20 in e:\\project\\python\\bank customer churn\\.venv\\lib\\site-packages (from matplotlib) (1.25.1)\n",
      "Requirement already satisfied: packaging>=20.0 in e:\\project\\python\\bank customer churn\\.venv\\lib\\site-packages (from matplotlib) (23.1)\n",
      "Requirement already satisfied: pillow>=6.2.0 in e:\\project\\python\\bank customer churn\\.venv\\lib\\site-packages (from matplotlib) (10.0.0)\n",
      "Requirement already satisfied: pyparsing<3.1,>=2.3.1 in e:\\project\\python\\bank customer churn\\.venv\\lib\\site-packages (from matplotlib) (3.0.9)\n",
      "Requirement already satisfied: python-dateutil>=2.7 in e:\\project\\python\\bank customer churn\\.venv\\lib\\site-packages (from matplotlib) (2.8.2)\n",
      "Requirement already satisfied: six>=1.5 in e:\\project\\python\\bank customer churn\\.venv\\lib\\site-packages (from python-dateutil>=2.7->matplotlib) (1.16.0)\n",
      "Requirement already satisfied: seaborn in e:\\project\\python\\bank customer churn\\.venv\\lib\\site-packages (0.12.2)\n",
      "Requirement already satisfied: numpy!=1.24.0,>=1.17 in e:\\project\\python\\bank customer churn\\.venv\\lib\\site-packages (from seaborn) (1.25.1)\n",
      "Requirement already satisfied: pandas>=0.25 in e:\\project\\python\\bank customer churn\\.venv\\lib\\site-packages (from seaborn) (2.0.3)\n",
      "Requirement already satisfied: matplotlib!=3.6.1,>=3.1 in e:\\project\\python\\bank customer churn\\.venv\\lib\\site-packages (from seaborn) (3.7.2)\n",
      "Requirement already satisfied: contourpy>=1.0.1 in e:\\project\\python\\bank customer churn\\.venv\\lib\\site-packages (from matplotlib!=3.6.1,>=3.1->seaborn) (1.1.0)\n",
      "Requirement already satisfied: cycler>=0.10 in e:\\project\\python\\bank customer churn\\.venv\\lib\\site-packages (from matplotlib!=3.6.1,>=3.1->seaborn) (0.11.0)\n",
      "Requirement already satisfied: fonttools>=4.22.0 in e:\\project\\python\\bank customer churn\\.venv\\lib\\site-packages (from matplotlib!=3.6.1,>=3.1->seaborn) (4.40.0)\n",
      "Requirement already satisfied: kiwisolver>=1.0.1 in e:\\project\\python\\bank customer churn\\.venv\\lib\\site-packages (from matplotlib!=3.6.1,>=3.1->seaborn) (1.4.4)\n",
      "Requirement already satisfied: packaging>=20.0 in e:\\project\\python\\bank customer churn\\.venv\\lib\\site-packages (from matplotlib!=3.6.1,>=3.1->seaborn) (23.1)\n",
      "Requirement already satisfied: pillow>=6.2.0 in e:\\project\\python\\bank customer churn\\.venv\\lib\\site-packages (from matplotlib!=3.6.1,>=3.1->seaborn) (10.0.0)\n",
      "Requirement already satisfied: pyparsing<3.1,>=2.3.1 in e:\\project\\python\\bank customer churn\\.venv\\lib\\site-packages (from matplotlib!=3.6.1,>=3.1->seaborn) (3.0.9)\n",
      "Requirement already satisfied: python-dateutil>=2.7 in e:\\project\\python\\bank customer churn\\.venv\\lib\\site-packages (from matplotlib!=3.6.1,>=3.1->seaborn) (2.8.2)\n",
      "Requirement already satisfied: pytz>=2020.1 in e:\\project\\python\\bank customer churn\\.venv\\lib\\site-packages (from pandas>=0.25->seaborn) (2023.3)\n",
      "Requirement already satisfied: tzdata>=2022.1 in e:\\project\\python\\bank customer churn\\.venv\\lib\\site-packages (from pandas>=0.25->seaborn) (2023.3)\n",
      "Requirement already satisfied: six>=1.5 in e:\\project\\python\\bank customer churn\\.venv\\lib\\site-packages (from python-dateutil>=2.7->matplotlib!=3.6.1,>=3.1->seaborn) (1.16.0)\n"
     ]
    }
   ],
   "source": [
    "!pip install matplotlib\n",
    "!pip install seaborn"
   ]
  },
  {
   "cell_type": "code",
   "execution_count": 122,
   "metadata": {},
   "outputs": [],
   "source": [
    "import numpy as np\n",
    "import pandas as pd\n",
    "import matplotlib.pyplot as plt\n",
    "import seaborn as sns"
   ]
  },
  {
   "cell_type": "code",
   "execution_count": 123,
   "metadata": {},
   "outputs": [
    {
     "data": {
      "text/html": [
       "<div>\n",
       "<style scoped>\n",
       "    .dataframe tbody tr th:only-of-type {\n",
       "        vertical-align: middle;\n",
       "    }\n",
       "\n",
       "    .dataframe tbody tr th {\n",
       "        vertical-align: top;\n",
       "    }\n",
       "\n",
       "    .dataframe thead th {\n",
       "        text-align: right;\n",
       "    }\n",
       "</style>\n",
       "<table border=\"1\" class=\"dataframe\">\n",
       "  <thead>\n",
       "    <tr style=\"text-align: right;\">\n",
       "      <th></th>\n",
       "      <th>customer_id</th>\n",
       "      <th>vintage</th>\n",
       "      <th>age</th>\n",
       "      <th>gender</th>\n",
       "      <th>dependents</th>\n",
       "      <th>occupation</th>\n",
       "      <th>city</th>\n",
       "      <th>customer_nw_category</th>\n",
       "      <th>branch_code</th>\n",
       "      <th>days_since_last_transaction</th>\n",
       "      <th>...</th>\n",
       "      <th>previous_month_end_balance</th>\n",
       "      <th>average_monthly_balance_prevQ</th>\n",
       "      <th>average_monthly_balance_prevQ2</th>\n",
       "      <th>current_month_credit</th>\n",
       "      <th>previous_month_credit</th>\n",
       "      <th>current_month_debit</th>\n",
       "      <th>previous_month_debit</th>\n",
       "      <th>current_month_balance</th>\n",
       "      <th>previous_month_balance</th>\n",
       "      <th>churn</th>\n",
       "    </tr>\n",
       "  </thead>\n",
       "  <tbody>\n",
       "    <tr>\n",
       "      <th>0</th>\n",
       "      <td>1</td>\n",
       "      <td>3135</td>\n",
       "      <td>66</td>\n",
       "      <td>Male</td>\n",
       "      <td>0.0</td>\n",
       "      <td>self_employed</td>\n",
       "      <td>187.0</td>\n",
       "      <td>2</td>\n",
       "      <td>755</td>\n",
       "      <td>224.0</td>\n",
       "      <td>...</td>\n",
       "      <td>1458.71</td>\n",
       "      <td>1458.71</td>\n",
       "      <td>1449.07</td>\n",
       "      <td>0.20</td>\n",
       "      <td>0.20</td>\n",
       "      <td>0.20</td>\n",
       "      <td>0.20</td>\n",
       "      <td>1458.71</td>\n",
       "      <td>1458.71</td>\n",
       "      <td>0</td>\n",
       "    </tr>\n",
       "    <tr>\n",
       "      <th>1</th>\n",
       "      <td>2</td>\n",
       "      <td>310</td>\n",
       "      <td>35</td>\n",
       "      <td>Male</td>\n",
       "      <td>0.0</td>\n",
       "      <td>self_employed</td>\n",
       "      <td>NaN</td>\n",
       "      <td>2</td>\n",
       "      <td>3214</td>\n",
       "      <td>60.0</td>\n",
       "      <td>...</td>\n",
       "      <td>8704.66</td>\n",
       "      <td>7799.26</td>\n",
       "      <td>12419.41</td>\n",
       "      <td>0.56</td>\n",
       "      <td>0.56</td>\n",
       "      <td>5486.27</td>\n",
       "      <td>100.56</td>\n",
       "      <td>6496.78</td>\n",
       "      <td>8787.61</td>\n",
       "      <td>0</td>\n",
       "    </tr>\n",
       "    <tr>\n",
       "      <th>2</th>\n",
       "      <td>4</td>\n",
       "      <td>2356</td>\n",
       "      <td>31</td>\n",
       "      <td>Male</td>\n",
       "      <td>0.0</td>\n",
       "      <td>salaried</td>\n",
       "      <td>146.0</td>\n",
       "      <td>2</td>\n",
       "      <td>41</td>\n",
       "      <td>NaN</td>\n",
       "      <td>...</td>\n",
       "      <td>5815.29</td>\n",
       "      <td>4910.17</td>\n",
       "      <td>2815.94</td>\n",
       "      <td>0.61</td>\n",
       "      <td>0.61</td>\n",
       "      <td>6046.73</td>\n",
       "      <td>259.23</td>\n",
       "      <td>5006.28</td>\n",
       "      <td>5070.14</td>\n",
       "      <td>0</td>\n",
       "    </tr>\n",
       "    <tr>\n",
       "      <th>3</th>\n",
       "      <td>5</td>\n",
       "      <td>478</td>\n",
       "      <td>90</td>\n",
       "      <td>NaN</td>\n",
       "      <td>NaN</td>\n",
       "      <td>self_employed</td>\n",
       "      <td>1020.0</td>\n",
       "      <td>2</td>\n",
       "      <td>582</td>\n",
       "      <td>147.0</td>\n",
       "      <td>...</td>\n",
       "      <td>2291.91</td>\n",
       "      <td>2084.54</td>\n",
       "      <td>1006.54</td>\n",
       "      <td>0.47</td>\n",
       "      <td>0.47</td>\n",
       "      <td>0.47</td>\n",
       "      <td>2143.33</td>\n",
       "      <td>2291.91</td>\n",
       "      <td>1669.79</td>\n",
       "      <td>1</td>\n",
       "    </tr>\n",
       "    <tr>\n",
       "      <th>4</th>\n",
       "      <td>6</td>\n",
       "      <td>2531</td>\n",
       "      <td>42</td>\n",
       "      <td>Male</td>\n",
       "      <td>2.0</td>\n",
       "      <td>self_employed</td>\n",
       "      <td>1494.0</td>\n",
       "      <td>3</td>\n",
       "      <td>388</td>\n",
       "      <td>58.0</td>\n",
       "      <td>...</td>\n",
       "      <td>1401.72</td>\n",
       "      <td>1643.31</td>\n",
       "      <td>1871.12</td>\n",
       "      <td>0.33</td>\n",
       "      <td>714.61</td>\n",
       "      <td>588.62</td>\n",
       "      <td>1538.06</td>\n",
       "      <td>1157.15</td>\n",
       "      <td>1677.16</td>\n",
       "      <td>1</td>\n",
       "    </tr>\n",
       "  </tbody>\n",
       "</table>\n",
       "<p>5 rows × 21 columns</p>\n",
       "</div>"
      ],
      "text/plain": [
       "   customer_id  vintage  age gender  dependents     occupation    city  \\\n",
       "0            1     3135   66   Male         0.0  self_employed   187.0   \n",
       "1            2      310   35   Male         0.0  self_employed     NaN   \n",
       "2            4     2356   31   Male         0.0       salaried   146.0   \n",
       "3            5      478   90    NaN         NaN  self_employed  1020.0   \n",
       "4            6     2531   42   Male         2.0  self_employed  1494.0   \n",
       "\n",
       "   customer_nw_category  branch_code  days_since_last_transaction  ...  \\\n",
       "0                     2          755                        224.0  ...   \n",
       "1                     2         3214                         60.0  ...   \n",
       "2                     2           41                          NaN  ...   \n",
       "3                     2          582                        147.0  ...   \n",
       "4                     3          388                         58.0  ...   \n",
       "\n",
       "   previous_month_end_balance  average_monthly_balance_prevQ  \\\n",
       "0                     1458.71                        1458.71   \n",
       "1                     8704.66                        7799.26   \n",
       "2                     5815.29                        4910.17   \n",
       "3                     2291.91                        2084.54   \n",
       "4                     1401.72                        1643.31   \n",
       "\n",
       "   average_monthly_balance_prevQ2  current_month_credit  \\\n",
       "0                         1449.07                  0.20   \n",
       "1                        12419.41                  0.56   \n",
       "2                         2815.94                  0.61   \n",
       "3                         1006.54                  0.47   \n",
       "4                         1871.12                  0.33   \n",
       "\n",
       "   previous_month_credit  current_month_debit  previous_month_debit  \\\n",
       "0                   0.20                 0.20                  0.20   \n",
       "1                   0.56              5486.27                100.56   \n",
       "2                   0.61              6046.73                259.23   \n",
       "3                   0.47                 0.47               2143.33   \n",
       "4                 714.61               588.62               1538.06   \n",
       "\n",
       "   current_month_balance  previous_month_balance  churn  \n",
       "0                1458.71                 1458.71      0  \n",
       "1                6496.78                 8787.61      0  \n",
       "2                5006.28                 5070.14      0  \n",
       "3                2291.91                 1669.79      1  \n",
       "4                1157.15                 1677.16      1  \n",
       "\n",
       "[5 rows x 21 columns]"
      ]
     },
     "execution_count": 123,
     "metadata": {},
     "output_type": "execute_result"
    }
   ],
   "source": [
    "data =  pd.read_csv(\"E:\\Project\\Python\\Bank customer churn\\churn_prediction.csv\")\n",
    "data.head()"
   ]
  },
  {
   "cell_type": "code",
   "execution_count": 124,
   "metadata": {},
   "outputs": [
    {
     "data": {
      "text/plain": [
       "(28382, 21)"
      ]
     },
     "execution_count": 124,
     "metadata": {},
     "output_type": "execute_result"
    }
   ],
   "source": [
    "data.shape\n"
   ]
  },
  {
   "cell_type": "code",
   "execution_count": 125,
   "metadata": {},
   "outputs": [
    {
     "data": {
      "text/plain": [
       "customer_id                          0\n",
       "vintage                              0\n",
       "age                                  0\n",
       "gender                             525\n",
       "dependents                        2463\n",
       "occupation                          80\n",
       "city                               803\n",
       "customer_nw_category                 0\n",
       "branch_code                          0\n",
       "days_since_last_transaction       3223\n",
       "current_balance                      0\n",
       "previous_month_end_balance           0\n",
       "average_monthly_balance_prevQ        0\n",
       "average_monthly_balance_prevQ2       0\n",
       "current_month_credit                 0\n",
       "previous_month_credit                0\n",
       "current_month_debit                  0\n",
       "previous_month_debit                 0\n",
       "current_month_balance                0\n",
       "previous_month_balance               0\n",
       "churn                                0\n",
       "dtype: int64"
      ]
     },
     "execution_count": 125,
     "metadata": {},
     "output_type": "execute_result"
    }
   ],
   "source": [
    "data.isnull().sum()\n"
   ]
  },
  {
   "cell_type": "markdown",
   "metadata": {},
   "source": [
    "# EDA"
   ]
  },
  {
   "cell_type": "markdown",
   "metadata": {},
   "source": [
    "## Catagorical columns"
   ]
  },
  {
   "cell_type": "code",
   "execution_count": 126,
   "metadata": {},
   "outputs": [
    {
     "data": {
      "text/html": [
       "<div>\n",
       "<style scoped>\n",
       "    .dataframe tbody tr th:only-of-type {\n",
       "        vertical-align: middle;\n",
       "    }\n",
       "\n",
       "    .dataframe tbody tr th {\n",
       "        vertical-align: top;\n",
       "    }\n",
       "\n",
       "    .dataframe thead th {\n",
       "        text-align: right;\n",
       "    }\n",
       "</style>\n",
       "<table border=\"1\" class=\"dataframe\">\n",
       "  <thead>\n",
       "    <tr style=\"text-align: right;\">\n",
       "      <th></th>\n",
       "      <th>gender</th>\n",
       "      <th>occupation</th>\n",
       "    </tr>\n",
       "  </thead>\n",
       "  <tbody>\n",
       "    <tr>\n",
       "      <th>0</th>\n",
       "      <td>Male</td>\n",
       "      <td>self_employed</td>\n",
       "    </tr>\n",
       "    <tr>\n",
       "      <th>1</th>\n",
       "      <td>Male</td>\n",
       "      <td>self_employed</td>\n",
       "    </tr>\n",
       "    <tr>\n",
       "      <th>2</th>\n",
       "      <td>Male</td>\n",
       "      <td>salaried</td>\n",
       "    </tr>\n",
       "    <tr>\n",
       "      <th>3</th>\n",
       "      <td>NaN</td>\n",
       "      <td>self_employed</td>\n",
       "    </tr>\n",
       "    <tr>\n",
       "      <th>4</th>\n",
       "      <td>Male</td>\n",
       "      <td>self_employed</td>\n",
       "    </tr>\n",
       "  </tbody>\n",
       "</table>\n",
       "</div>"
      ],
      "text/plain": [
       "  gender     occupation\n",
       "0   Male  self_employed\n",
       "1   Male  self_employed\n",
       "2   Male       salaried\n",
       "3    NaN  self_employed\n",
       "4   Male  self_employed"
      ]
     },
     "execution_count": 126,
     "metadata": {},
     "output_type": "execute_result"
    }
   ],
   "source": [
    "data.select_dtypes('object').head()\n"
   ]
  },
  {
   "cell_type": "code",
   "execution_count": 127,
   "metadata": {},
   "outputs": [],
   "source": [
    "gender_counts = data['gender'].value_counts()\n",
    "occupation_counts = data['occupation'].value_counts()"
   ]
  },
  {
   "cell_type": "code",
   "execution_count": 128,
   "metadata": {},
   "outputs": [
    {
     "data": {
      "text/plain": [
       "([<matplotlib.patches.Wedge at 0x2d8aa692690>,\n",
       "  <matplotlib.patches.Wedge at 0x2d8aa783990>,\n",
       "  <matplotlib.patches.Wedge at 0x2d8aa783390>,\n",
       "  <matplotlib.patches.Wedge at 0x2d8a7fa9b10>,\n",
       "  <matplotlib.patches.Wedge at 0x2d8aa32acd0>],\n",
       " [Text(-0.3968366056809831, 1.0259243190370313, 'self_employed'),\n",
       "  Text(-0.09718915820088841, -1.0956980731607604, 'salaried'),\n",
       "  Text(0.8507033956596516, -0.6973548111350051, 'student'),\n",
       "  Text(1.070136183572298, -0.25457523172790575, 'retired'),\n",
       "  Text(1.099989156279018, -0.004884267455220814, 'company')],\n",
       " [Text(-0.21645633037144532, 0.5595950831111078, '61.7%'),\n",
       "  Text(-0.053012268109575496, -0.5976534944513238, '23.7%'),\n",
       "  Text(0.46402003399617353, -0.3803753515281845, '7.3%'),\n",
       "  Text(0.5837106455848898, -0.13885921730613038, '7.2%'),\n",
       "  Text(0.5999940852431007, -0.002664145884665898, '0.1%')])"
      ]
     },
     "execution_count": 128,
     "metadata": {},
     "output_type": "execute_result"
    },
    {
     "data": {
      "image/png": "[encoded data removed]",
      "text/plain": [
       "<Figure size 1000x500 with 2 Axes>"
      ]
     },
     "metadata": {},
     "output_type": "display_data"
    }
   ],
   "source": [
    "fig, axs = plt.subplots(1, 2, figsize=(10, 5))\n",
    "\n",
    "axs[0].pie(gender_counts, labels=gender_counts.index, autopct='%1.1f%%')\n",
    "axs[1].pie(occupation_counts, labels=occupation_counts.index, autopct='%1.1f%%')"
   ]
  },
  {
   "cell_type": "code",
   "execution_count": 129,
   "metadata": {},
   "outputs": [],
   "source": [
    "catagorical_column=[\"gender\",\"occupation\"]\n",
    "for i in catagorical_column:\n",
    "    data[i]=data[i].fillna(data[i].mode().iloc[0])"
   ]
  },
  {
   "cell_type": "code",
   "execution_count": 130,
   "metadata": {},
   "outputs": [
    {
     "data": {
      "text/plain": [
       "customer_id                          0\n",
       "vintage                              0\n",
       "age                                  0\n",
       "gender                               0\n",
       "dependents                        2463\n",
       "occupation                           0\n",
       "city                               803\n",
       "customer_nw_category                 0\n",
       "branch_code                          0\n",
       "days_since_last_transaction       3223\n",
       "current_balance                      0\n",
       "previous_month_end_balance           0\n",
       "average_monthly_balance_prevQ        0\n",
       "average_monthly_balance_prevQ2       0\n",
       "current_month_credit                 0\n",
       "previous_month_credit                0\n",
       "current_month_debit                  0\n",
       "previous_month_debit                 0\n",
       "current_month_balance                0\n",
       "previous_month_balance               0\n",
       "churn                                0\n",
       "dtype: int64"
      ]
     },
     "execution_count": 130,
     "metadata": {},
     "output_type": "execute_result"
    }
   ],
   "source": [
    "data.isnull().sum()"
   ]
  },
  {
   "cell_type": "code",
   "execution_count": 131,
   "metadata": {},
   "outputs": [
    {
     "data": {
      "text/plain": [
       "([<matplotlib.patches.Wedge at 0x2d8aa827fd0>,\n",
       "  <matplotlib.patches.Wedge at 0x2d8a9b6e310>,\n",
       "  <matplotlib.patches.Wedge at 0x2d8aa5bfd50>,\n",
       "  <matplotlib.patches.Wedge at 0x2d8aa5bc990>,\n",
       "  <matplotlib.patches.Wedge at 0x2d8aab1a010>],\n",
       " [Text(-0.4003095547946538, 1.024574184888584, 'self_employed'),\n",
       "  Text(-0.09206324344799112, -1.0961406657933261, 'salaried'),\n",
       "  Text(0.8520517427119069, -0.6957067110080244, 'student'),\n",
       "  Text(1.0703036250852522, -0.25387034117708174, 'retired'),\n",
       "  Text(1.099989218987988, -0.004870124248543048, 'company')],\n",
       " [Text(-0.21835066625162933, 0.558858646302864, '61.9%'),\n",
       "  Text(-0.05021631460799515, -0.5978949086145414, '23.6%'),\n",
       "  Text(0.46475549602467636, -0.3794763878225587, '7.3%'),\n",
       "  Text(0.5838019773192284, -0.1384747315511355, '7.1%'),\n",
       "  Text(0.5999941194479934, -0.0026564314082962075, '0.1%')])"
      ]
     },
     "execution_count": 131,
     "metadata": {},
     "output_type": "execute_result"
    },
    {
     "data": {
      "image/png": "[encoded data removed]",
      "text/plain": [
       "<Figure size 1000x500 with 2 Axes>"
      ]
     },
     "metadata": {},
     "output_type": "display_data"
    }
   ],
   "source": [
    "gender_counts1 = data['gender'].value_counts()\n",
    "occupation_counts1 = data['occupation'].value_counts()\n",
    "\n",
    "fig, axs = plt.subplots(1, 2, figsize=(10, 5))\n",
    "\n",
    "axs[0].pie(gender_counts1, labels=gender_counts.index, autopct='%1.1f%%')\n",
    "axs[1].pie(occupation_counts1, labels=occupation_counts.index, autopct='%1.1f%%')"
   ]
  },
  {
   "cell_type": "markdown",
   "metadata": {},
   "source": [
    "## Numerical columns"
   ]
  },
  {
   "cell_type": "code",
   "execution_count": 132,
   "metadata": {},
   "outputs": [
    {
     "data": {
      "text/html": [
       "<div>\n",
       "<style scoped>\n",
       "    .dataframe tbody tr th:only-of-type {\n",
       "        vertical-align: middle;\n",
       "    }\n",
       "\n",
       "    .dataframe tbody tr th {\n",
       "        vertical-align: top;\n",
       "    }\n",
       "\n",
       "    .dataframe thead th {\n",
       "        text-align: right;\n",
       "    }\n",
       "</style>\n",
       "<table border=\"1\" class=\"dataframe\">\n",
       "  <thead>\n",
       "    <tr style=\"text-align: right;\">\n",
       "      <th></th>\n",
       "      <th>customer_id</th>\n",
       "      <th>vintage</th>\n",
       "      <th>age</th>\n",
       "      <th>dependents</th>\n",
       "      <th>city</th>\n",
       "      <th>customer_nw_category</th>\n",
       "      <th>branch_code</th>\n",
       "      <th>days_since_last_transaction</th>\n",
       "      <th>current_balance</th>\n",
       "      <th>previous_month_end_balance</th>\n",
       "      <th>average_monthly_balance_prevQ</th>\n",
       "      <th>average_monthly_balance_prevQ2</th>\n",
       "      <th>current_month_credit</th>\n",
       "      <th>previous_month_credit</th>\n",
       "      <th>current_month_debit</th>\n",
       "      <th>previous_month_debit</th>\n",
       "      <th>current_month_balance</th>\n",
       "      <th>previous_month_balance</th>\n",
       "      <th>churn</th>\n",
       "    </tr>\n",
       "  </thead>\n",
       "  <tbody>\n",
       "    <tr>\n",
       "      <th>0</th>\n",
       "      <td>1</td>\n",
       "      <td>3135</td>\n",
       "      <td>66</td>\n",
       "      <td>0.0</td>\n",
       "      <td>187.0</td>\n",
       "      <td>2</td>\n",
       "      <td>755</td>\n",
       "      <td>224.0</td>\n",
       "      <td>1458.71</td>\n",
       "      <td>1458.71</td>\n",
       "      <td>1458.71</td>\n",
       "      <td>1449.07</td>\n",
       "      <td>0.20</td>\n",
       "      <td>0.20</td>\n",
       "      <td>0.20</td>\n",
       "      <td>0.20</td>\n",
       "      <td>1458.71</td>\n",
       "      <td>1458.71</td>\n",
       "      <td>0</td>\n",
       "    </tr>\n",
       "    <tr>\n",
       "      <th>1</th>\n",
       "      <td>2</td>\n",
       "      <td>310</td>\n",
       "      <td>35</td>\n",
       "      <td>0.0</td>\n",
       "      <td>NaN</td>\n",
       "      <td>2</td>\n",
       "      <td>3214</td>\n",
       "      <td>60.0</td>\n",
       "      <td>5390.37</td>\n",
       "      <td>8704.66</td>\n",
       "      <td>7799.26</td>\n",
       "      <td>12419.41</td>\n",
       "      <td>0.56</td>\n",
       "      <td>0.56</td>\n",
       "      <td>5486.27</td>\n",
       "      <td>100.56</td>\n",
       "      <td>6496.78</td>\n",
       "      <td>8787.61</td>\n",
       "      <td>0</td>\n",
       "    </tr>\n",
       "    <tr>\n",
       "      <th>2</th>\n",
       "      <td>4</td>\n",
       "      <td>2356</td>\n",
       "      <td>31</td>\n",
       "      <td>0.0</td>\n",
       "      <td>146.0</td>\n",
       "      <td>2</td>\n",
       "      <td>41</td>\n",
       "      <td>NaN</td>\n",
       "      <td>3913.16</td>\n",
       "      <td>5815.29</td>\n",
       "      <td>4910.17</td>\n",
       "      <td>2815.94</td>\n",
       "      <td>0.61</td>\n",
       "      <td>0.61</td>\n",
       "      <td>6046.73</td>\n",
       "      <td>259.23</td>\n",
       "      <td>5006.28</td>\n",
       "      <td>5070.14</td>\n",
       "      <td>0</td>\n",
       "    </tr>\n",
       "    <tr>\n",
       "      <th>3</th>\n",
       "      <td>5</td>\n",
       "      <td>478</td>\n",
       "      <td>90</td>\n",
       "      <td>NaN</td>\n",
       "      <td>1020.0</td>\n",
       "      <td>2</td>\n",
       "      <td>582</td>\n",
       "      <td>147.0</td>\n",
       "      <td>2291.91</td>\n",
       "      <td>2291.91</td>\n",
       "      <td>2084.54</td>\n",
       "      <td>1006.54</td>\n",
       "      <td>0.47</td>\n",
       "      <td>0.47</td>\n",
       "      <td>0.47</td>\n",
       "      <td>2143.33</td>\n",
       "      <td>2291.91</td>\n",
       "      <td>1669.79</td>\n",
       "      <td>1</td>\n",
       "    </tr>\n",
       "    <tr>\n",
       "      <th>4</th>\n",
       "      <td>6</td>\n",
       "      <td>2531</td>\n",
       "      <td>42</td>\n",
       "      <td>2.0</td>\n",
       "      <td>1494.0</td>\n",
       "      <td>3</td>\n",
       "      <td>388</td>\n",
       "      <td>58.0</td>\n",
       "      <td>927.72</td>\n",
       "      <td>1401.72</td>\n",
       "      <td>1643.31</td>\n",
       "      <td>1871.12</td>\n",
       "      <td>0.33</td>\n",
       "      <td>714.61</td>\n",
       "      <td>588.62</td>\n",
       "      <td>1538.06</td>\n",
       "      <td>1157.15</td>\n",
       "      <td>1677.16</td>\n",
       "      <td>1</td>\n",
       "    </tr>\n",
       "  </tbody>\n",
       "</table>\n",
       "</div>"
      ],
      "text/plain": [
       "   customer_id  vintage  age  dependents    city  customer_nw_category  \\\n",
       "0            1     3135   66         0.0   187.0                     2   \n",
       "1            2      310   35         0.0     NaN                     2   \n",
       "2            4     2356   31         0.0   146.0                     2   \n",
       "3            5      478   90         NaN  1020.0                     2   \n",
       "4            6     2531   42         2.0  1494.0                     3   \n",
       "\n",
       "   branch_code  days_since_last_transaction  current_balance  \\\n",
       "0          755                        224.0          1458.71   \n",
       "1         3214                         60.0          5390.37   \n",
       "2           41                          NaN          3913.16   \n",
       "3          582                        147.0          2291.91   \n",
       "4          388                         58.0           927.72   \n",
       "\n",
       "   previous_month_end_balance  average_monthly_balance_prevQ  \\\n",
       "0                     1458.71                        1458.71   \n",
       "1                     8704.66                        7799.26   \n",
       "2                     5815.29                        4910.17   \n",
       "3                     2291.91                        2084.54   \n",
       "4                     1401.72                        1643.31   \n",
       "\n",
       "   average_monthly_balance_prevQ2  current_month_credit  \\\n",
       "0                         1449.07                  0.20   \n",
       "1                        12419.41                  0.56   \n",
       "2                         2815.94                  0.61   \n",
       "3                         1006.54                  0.47   \n",
       "4                         1871.12                  0.33   \n",
       "\n",
       "   previous_month_credit  current_month_debit  previous_month_debit  \\\n",
       "0                   0.20                 0.20                  0.20   \n",
       "1                   0.56              5486.27                100.56   \n",
       "2                   0.61              6046.73                259.23   \n",
       "3                   0.47                 0.47               2143.33   \n",
       "4                 714.61               588.62               1538.06   \n",
       "\n",
       "   current_month_balance  previous_month_balance  churn  \n",
       "0                1458.71                 1458.71      0  \n",
       "1                6496.78                 8787.61      0  \n",
       "2                5006.28                 5070.14      0  \n",
       "3                2291.91                 1669.79      1  \n",
       "4                1157.15                 1677.16      1  "
      ]
     },
     "execution_count": 132,
     "metadata": {},
     "output_type": "execute_result"
    }
   ],
   "source": [
    "data.select_dtypes(['int','float']).head()"
   ]
  },
  {
   "cell_type": "code",
   "execution_count": 133,
   "metadata": {},
   "outputs": [
    {
     "data": {
      "text/plain": [
       "Index(['customer_id', 'vintage', 'age', 'dependents', 'city',\n",
       "       'customer_nw_category', 'branch_code', 'days_since_last_transaction',\n",
       "       'current_balance', 'previous_month_end_balance',\n",
       "       'average_monthly_balance_prevQ', 'average_monthly_balance_prevQ2',\n",
       "       'current_month_credit', 'previous_month_credit', 'current_month_debit',\n",
       "       'previous_month_debit', 'current_month_balance',\n",
       "       'previous_month_balance', 'churn'],\n",
       "      dtype='object')"
      ]
     },
     "execution_count": 133,
     "metadata": {},
     "output_type": "execute_result"
    }
   ],
   "source": [
    "numerical_columns=data.select_dtypes(['int','float']).head().columns\n",
    "numerical_columns"
   ]
  },
  {
   "cell_type": "code",
   "execution_count": 134,
   "metadata": {},
   "outputs": [
    {
     "data": {
      "text/plain": [
       "Index(['dependents', 'city', 'days_since_last_transaction'], dtype='object')"
      ]
     },
     "execution_count": 134,
     "metadata": {},
     "output_type": "execute_result"
    }
   ],
   "source": [
    "numerical_columns_null=data.select_dtypes(['int','float']).head().columns[data.select_dtypes(['int','float']).head().isnull().any()]\n",
    "numerical_columns_null"
   ]
  },
  {
   "cell_type": "code",
   "execution_count": 140,
   "metadata": {},
   "outputs": [
    {
     "data": {
      "image/png": "[encoded data removed]",
      "text/plain": [
       "<Figure size 1000x500 with 3 Axes>"
      ]
     },
     "metadata": {},
     "output_type": "display_data"
    }
   ],
   "source": [
    "fig, axs = plt.subplots(1, 3, figsize=(10, 5))\n",
    "\n",
    "axs[0].hist(data[\"dependents\"],bins = 200)\n",
    "axs[0].set_title('dependents')\n",
    "\n",
    "axs[1].hist(data[\"city\"],bins = 50)\n",
    "axs[1].set_title('city')\n",
    "\n",
    "axs[2].hist(data[\"days_since_last_transaction\"],bins = 50)\n",
    "axs[2].set_title('days_since_last_transaction')\n",
    "\n",
    "plt.show()"
   ]
  },
  {
   "cell_type": "code",
   "execution_count": 143,
   "metadata": {},
   "outputs": [
    {
     "data": {
      "text/plain": [
       "array([ 0., nan,  2.,  3.,  1.,  7.,  4.,  6.,  5.,  9., 52., 36., 50.,\n",
       "        8., 25., 32.])"
      ]
     },
     "execution_count": 143,
     "metadata": {},
     "output_type": "execute_result"
    }
   ],
   "source": [
    "data[\"dependents\"].unique()"
   ]
  },
  {
   "cell_type": "code",
   "execution_count": 146,
   "metadata": {},
   "outputs": [
    {
     "data": {
      "text/plain": [
       "dependents\n",
       "0.0     21435\n",
       "2.0      2150\n",
       "1.0      1395\n",
       "3.0       701\n",
       "4.0       179\n",
       "5.0        41\n",
       "6.0         8\n",
       "7.0         3\n",
       "9.0         1\n",
       "52.0        1\n",
       "36.0        1\n",
       "50.0        1\n",
       "8.0         1\n",
       "25.0        1\n",
       "32.0        1\n",
       "Name: count, dtype: int64"
      ]
     },
     "execution_count": 146,
     "metadata": {},
     "output_type": "execute_result"
    }
   ],
   "source": [
    "data[\"dependents\"].value_counts()"
   ]
  },
  {
   "cell_type": "code",
   "execution_count": 148,
   "metadata": {},
   "outputs": [],
   "source": [
    "data['city']= data['city'].fillna(data['city'].mean())\n",
    "\n",
    "# \"dependents\" and \"days_since_last_transaction\" are left sqewed\n",
    "data['dependents']= data['dependents'].fillna(data['dependents'].median())\n",
    "data['days_since_last_transaction']= data['days_since_last_transaction'].fillna(data['days_since_last_transaction'].median())"
   ]
  },
  {
   "cell_type": "code",
   "execution_count": 149,
   "metadata": {},
   "outputs": [
    {
     "data": {
      "image/png": "[encoded data removed]",
      "text/plain": [
       "<Figure size 1000x500 with 3 Axes>"
      ]
     },
     "metadata": {},
     "output_type": "display_data"
    }
   ],
   "source": [
    "fig, axs = plt.subplots(1, 3, figsize=(10, 5))\n",
    "\n",
    "axs[0].hist(data[\"dependents\"],bins = 200)\n",
    "axs[0].set_title('dependents')\n",
    "\n",
    "axs[1].hist(data[\"city\"],bins = 50)\n",
    "axs[1].set_title('city')\n",
    "\n",
    "axs[2].hist(data[\"days_since_last_transaction\"],bins = 50)\n",
    "axs[2].set_title('days_since_last_transaction')\n",
    "\n",
    "plt.show()"
   ]
  },
  {
   "cell_type": "code",
   "execution_count": 151,
   "metadata": {},
   "outputs": [
    {
     "data": {
      "text/plain": [
       "0"
      ]
     },
     "execution_count": 151,
     "metadata": {},
     "output_type": "execute_result"
    }
   ],
   "source": [
    "data.isnull().sum().sum()"
   ]
  },
  {
   "cell_type": "code",
   "execution_count": 153,
   "metadata": {},
   "outputs": [
    {
     "data": {
      "text/plain": [
       "0"
      ]
     },
     "execution_count": 153,
     "metadata": {},
     "output_type": "execute_result"
    }
   ],
   "source": [
    "data.duplicated().sum()"
   ]
  },
  {
   "cell_type": "code",
   "execution_count": 154,
   "metadata": {},
   "outputs": [
    {
     "data": {
      "text/plain": [
       "(28382, 21)"
      ]
     },
     "execution_count": 154,
     "metadata": {},
     "output_type": "execute_result"
    }
   ],
   "source": [
    "data.shape"
   ]
  },
  {
   "cell_type": "code",
   "execution_count": 155,
   "metadata": {},
   "outputs": [],
   "source": [
    "data.to_csv(\"cleaned_data\")\n"
   ]
  }
 ],
 "metadata": {
  "kernelspec": {
   "display_name": "Python 3",
   "language": "python",
   "name": "python3"
  },
  "language_info": {
   "codemirror_mode": {
    "name": "ipython",
    "version": 3
   },
   "file_extension": ".py",
   "mimetype": "text/x-python",
   "name": "python",
   "nbconvert_exporter": "python",
   "pygments_lexer": "ipython3",
   "version": "3.11.0"
  },
  "orig_nbformat": 4
 },
 "nbformat": 4,
 "nbformat_minor": 2
}
